{
 "cells": [
  {
   "cell_type": "code",
   "execution_count": 1,
   "metadata": {},
   "outputs": [],
   "source": [
    "#-----------------------------------packages-----------------------------------\n",
    "import numpy as np\n",
    "import scipy as sp\n",
    "import itertools"
   ]
  },
  {
   "cell_type": "markdown",
   "metadata": {},
   "source": [
    "<b>Theorem 0.1.</b> (Steinitz' Theorem)\n",
    "Suppose $\\mathbf{p} = (p_0,p_1,p_2) \\in \\mathbb{N}^3$. Then $\\mathbf{p} \\in \\mathbb{F}^3$ <i>if and only if</i> all of the following hold:\n",
    "\n",
    "- $4 \\leq p_0 \\leq 2p_2 - 4$\n",
    "- $4 \\leq p_2 \\leq 2p_0 - 4$\n",
    "- $p_0 - p_1 + p_2 = 2$\n",
    "\n",
    "<b>Corollary</b> (Polytopic Addition in $\\mathbb{F}^3$)\n",
    "$\\mathbf{p}, \\mathbf{q} \\in \\mathbb{F}^3 \\Rightarrow \\mathbf{p} + \\mathbf{q} - (4,6,4) \\in \\mathbb{F}^3$"
   ]
  },
  {
   "cell_type": "code",
   "execution_count": 2,
   "metadata": {},
   "outputs": [],
   "source": [
    "x = np.array([1,2,3])"
   ]
  },
  {
   "cell_type": "code",
   "execution_count": 142,
   "metadata": {},
   "outputs": [],
   "source": [
    "#------------------------------steinitz criteria-------------------------------\n",
    "def steinitz(f_vector):\n",
    "\n",
    "    return 1 - (((f_vector[0] >= 4)*(f_vector[0] <= 2*f_vector[2] - 4))* \n",
    "                ((f_vector[2] >= 4)*(f_vector[2] <= 2*f_vector[0] - 4))*\n",
    "                (sum([(-1)**n*f_n for n, f_n in enumerate(f_vector)]) == 2))\n",
    "\n",
    "edge_lim = 50\n",
    "N_2 = list(itertools.product(*[range(edge_lim + 1)]*2))\n",
    "N_3 = list(itertools.product(*[range(edge_lim + 1)]*3))\n",
    "\n",
    "F_3 = [np.array(p) for p in N_3 if steinitz(p) == 0]"
   ]
  },
  {
   "cell_type": "code",
   "execution_count": 143,
   "metadata": {},
   "outputs": [],
   "source": [
    "cube = np.array([8,12,6])\n",
    "square_pyramid = np.array([5,8,5])\n",
    "triangular_prism = np.array([6,9,5])\n",
    "hexahedron = np.array([5,9,6])\n",
    "\n",
    "def p_sum(f_vectors, f_weights):\n",
    "\n",
    "    return (sum(f_vectors*np.array([[n] for n in f_weights])) -\n",
    "            (sum(f_weights) - 1)*np.array([4, 6, 4]))"
   ]
  },
  {
   "cell_type": "code",
   "execution_count": 146,
   "metadata": {},
   "outputs": [
    {
     "data": {
      "text/plain": [
       "0.0"
      ]
     },
     "execution_count": 146,
     "metadata": {},
     "output_type": "execute_result"
    }
   ],
   "source": [
    "#------------------------------polytope subspaces------------------------------\n",
    "f_vectors = [triangular_prism, square_pyramid, hexahedron]\n",
    "\n",
    "test_space = {}\n",
    "for test_vec in F_3:\n",
    "    for f_weights in N_3:\n",
    "\n",
    "        if np.all(p_sum(f_vectors, f_weights) == test_vec):\n",
    "            test_space[str(test_vec)] = f_weights\n",
    "\n",
    "missing_vecs = [vec for vec in F_3 if str(vec) not in test_space]\n",
    "len(missing_vecs)/len(F_3)\n",
    "    "
   ]
  },
  {
   "cell_type": "code",
   "execution_count": 126,
   "metadata": {},
   "outputs": [
    {
     "name": "stdout",
     "output_type": "stream",
     "text": [
      "(8, 0, 0)\n",
      "solver completed\n"
     ]
    }
   ],
   "source": [
    "#------------------------------isomorphism solver------------------------------\n",
    "test_vec = np.array([20,30,12])\n",
    "f_vectors = [triangular_prism, square_pyramid, hexahedron]\n",
    "\n",
    "for f_weights in N_3: # should solve analytically, but lazy...\n",
    "\n",
    "    if np.all(p_sum(f_vectors, f_weights) == test_vec):\n",
    "        print(f_weights)\n",
    "\n",
    "print('solver completed')\n"
   ]
  },
  {
   "cell_type": "code",
   "execution_count": null,
   "metadata": {},
   "outputs": [],
   "source": []
  },
  {
   "cell_type": "markdown",
   "metadata": {},
   "source": [
    "There appears to be an endomorphism $\\phi: \\mathbb{N}^3 \\rightarrow \\mathbb{F}^3$ given by:\n",
    "\n",
    "$\\phi((\\alpha, \\beta, \\gamma)) =  \\alpha(5,9,6) + \\beta(5,8,5) + \\gamma(6,9,5) + (\\alpha+\\beta+\\gamma-1)(4,6,4)$\n",
    "\n",
    "and hence,\n",
    "\n",
    "$\\phi((\\alpha, \\beta, \\gamma)) =  (\\alpha + \\beta + 2\\gamma, 3(\\alpha + \\gamma) + 2\\beta, \\beta + \\gamma + 2\\alpha) - (4,6,4)$\n"
   ]
  },
  {
   "cell_type": "markdown",
   "metadata": {},
   "source": [
    "Minkowski Addition"
   ]
  },
  {
   "cell_type": "code",
   "execution_count": 151,
   "metadata": {},
   "outputs": [
    {
     "data": {
      "text/plain": [
       "True"
      ]
     },
     "execution_count": 151,
     "metadata": {},
     "output_type": "execute_result"
    }
   ],
   "source": [
    "np.all(np.array([1,1]) < np.array([2,2]))"
   ]
  },
  {
   "cell_type": "code",
   "execution_count": 162,
   "metadata": {},
   "outputs": [
    {
     "data": {
      "text/plain": [
       "[array([0, 0]),\n",
       " array([1, 0]),\n",
       " array([0, 1]),\n",
       " array([1, 0]),\n",
       " array([2, 0]),\n",
       " array([2, 1]),\n",
       " array([2, 1]),\n",
       " array([2, 2]),\n",
       " array([1, 2]),\n",
       " array([0, 1]),\n",
       " array([1, 2]),\n",
       " array([0, 2])]"
      ]
     },
     "execution_count": 162,
     "metadata": {},
     "output_type": "execute_result"
    }
   ],
   "source": [
    "def mink_add(set_1, set_2):\n",
    "\n",
    "    new_set = []\n",
    "    for mem_1 in set_1:\n",
    "        for mem_2 in set_2:\n",
    "            new_set.append(mem_1 + mem_2)\n",
    "\n",
    "    new_set_2 = []\n",
    "    for test_mem in new_set:\n",
    "        ext_flag = True\n",
    "        tmp_set = [i for i in new_set if np.any(i != test_mem)]\n",
    "\n",
    "        for mem_a in tmp_set:\n",
    "            for mem_b in tmp_set:\n",
    "\n",
    "                if np.all((mem_a < test_mem)*(mem_b > test_mem)):\n",
    "                    ext_flag = False\n",
    "\n",
    "        if ext_flag == True:\n",
    "\n",
    "            new_set_2.append(test_mem)\n",
    "\n",
    "\n",
    "\n",
    "    return new_set_2\n",
    "\n",
    "square = [np.array([0,0]), np.array([1,0]), np.array([1,1]), np.array([0,1])]\n",
    "\n",
    "triangle = [np.array([0,0]), np.array([1,0]), np.array([0.5,1])]\n",
    "\n",
    "\n",
    "new_set = mink_add(square, square)\n",
    "\n",
    "new_set\n"
   ]
  }
 ],
 "metadata": {
  "kernelspec": {
   "display_name": "Python 3.9.7 ('grunbaum_env': venv)",
   "language": "python",
   "name": "python3"
  },
  "language_info": {
   "codemirror_mode": {
    "name": "ipython",
    "version": 3
   },
   "file_extension": ".py",
   "mimetype": "text/x-python",
   "name": "python",
   "nbconvert_exporter": "python",
   "pygments_lexer": "ipython3",
   "version": "3.9.7"
  },
  "orig_nbformat": 4,
  "vscode": {
   "interpreter": {
    "hash": "2e620ab098790e16328ac7c71059a6a6b87e23d84c6b1f28b6e139ad3dd72e4a"
   }
  }
 },
 "nbformat": 4,
 "nbformat_minor": 2
}
